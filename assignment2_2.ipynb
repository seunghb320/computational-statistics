{
  "nbformat": 4,
  "nbformat_minor": 0,
  "metadata": {
    "colab": {
      "provenance": [],
      "authorship_tag": "ABX9TyMPnDHFmLeSw9CFvUnWVNg1"
    },
    "kernelspec": {
      "name": "python3",
      "display_name": "Python 3"
    },
    "language_info": {
      "name": "python"
    }
  },
  "cells": [
    {
      "cell_type": "code",
      "source": [
        "#2번"
      ],
      "metadata": {
        "id": "Y12ER69ETzvE"
      },
      "execution_count": null,
      "outputs": []
    },
    {
      "cell_type": "code",
      "execution_count": null,
      "metadata": {
        "id": "cM2m2PrH6rkV"
      },
      "outputs": [],
      "source": [
        "# Newton method"
      ]
    },
    {
      "cell_type": "code",
      "source": [
        "from scipy import optimize\n",
        "import numpy as np\n",
        "def f(xy):\n",
        "    x,y = xy\n",
        "    #return x * np.cos(y) - x*y + y +1\n",
        "    #return (5/(x-1))\n",
        "    eq1 = x * np.cos(y) - 4\n",
        "    eq2 = (x - 1) * y - 5\n",
        "    return np.array([eq1, eq2])"
      ],
      "metadata": {
        "id": "2ImBdwFf6vGs"
      },
      "execution_count": null,
      "outputs": []
    },
    {
      "cell_type": "code",
      "source": [
        "root = optimize.newton(f, [6,6], tol=1e-5, maxiter=500)\n",
        "print(root)"
      ],
      "metadata": {
        "colab": {
          "base_uri": "https://localhost:8080/"
        },
        "id": "2z3RQu6D60H-",
        "outputId": "1a6aa9cf-eefc-44a5-d854-f1b7d4079ea7"
      },
      "execution_count": null,
      "outputs": [
        {
          "output_type": "stream",
          "name": "stdout",
          "text": [
            "[4.02125894 1.65493721]\n"
          ]
        }
      ]
    },
    {
      "cell_type": "code",
      "source": [
        "#3번"
      ],
      "metadata": {
        "id": "f-R3Zs5862Dc"
      },
      "execution_count": null,
      "outputs": []
    },
    {
      "cell_type": "code",
      "source": [
        "# rectangular, trapezoidal, and Simpson's rule\n",
        "from scipy import integrate\n",
        "import math\n",
        "def f(x):\n",
        "    return np.exp(-x**2) + np.exp(-1/x**2)/x**2"
      ],
      "metadata": {
        "id": "ZoBSg7SN7Ovz"
      },
      "execution_count": null,
      "outputs": []
    },
    {
      "cell_type": "code",
      "source": [
        "def rectint(f,a,b,n):\n",
        "    total = 0\n",
        "    h = (b - a) / n\n",
        "    for i in range(0, n):\n",
        "        total += h * f(a + (i-1/2) * h)\n",
        "    return total"
      ],
      "metadata": {
        "id": "kCj082dBE7Ka"
      },
      "execution_count": null,
      "outputs": []
    },
    {
      "cell_type": "code",
      "source": [
        "#a, b = 0.0000000001, 1\n",
        "a, b = 0, 1"
      ],
      "metadata": {
        "id": "2gH74j0KE9W_"
      },
      "execution_count": null,
      "outputs": []
    },
    {
      "cell_type": "code",
      "source": [
        "val_exact = math.sqrt(math.pi)/2"
      ],
      "metadata": {
        "id": "qoWga0kfKUK8"
      },
      "execution_count": null,
      "outputs": []
    },
    {
      "cell_type": "code",
      "source": [
        "print(\"    회수 직사각형법\",\"사다리꼴법\",\"심슨법\")\n",
        "for n in range(2,21,2):\n",
        "    x = np.linspace(a, b, n) #a,b 구간을 n으로 나눔\n",
        "    y = f(x)\n",
        "    y[0] = 1\n",
        "    val_rect = rectint(f, a, b, n)\n",
        "    val_trap = integrate.trapz(y, x)\n",
        "    val_simps = integrate.simps(y, x)\n",
        "    print(\"차이 {:2d} {:9.4f} {:9.4f} {:9.4f}\".format(n, abs(val_rect-val_exact), abs(val_trap-val_exact), abs(val_simps-val_exact)))\n",
        "    print(\"결과 {:2d} {:9.4f} {:9.4f} {:9.4f}\".format(n, val_rect, val_trap, val_simps))"
      ],
      "metadata": {
        "colab": {
          "base_uri": "https://localhost:8080/"
        },
        "id": "WCzV8cj9FAeh",
        "outputId": "6bd4449d-e5ed-41ac-a5a3-cfa5a7e9de4b"
      },
      "execution_count": null,
      "outputs": [
        {
          "output_type": "stream",
          "name": "stdout",
          "text": [
            "    회수 직사각형법 사다리꼴법 심슨법\n",
            "차이  2    0.0532    0.0183    0.0183\n",
            "결과  2    0.9394    0.8679    0.8679\n",
            "차이  4    0.0433    0.0055    0.0068\n",
            "결과  4    0.9295    0.8807    0.8794\n",
            "차이  6    0.0341    0.0026    0.0018\n",
            "결과  6    0.9203    0.8836    0.8880\n",
            "차이  8    0.0275    0.0013    0.0002\n",
            "결과  8    0.9137    0.8850    0.8860\n",
            "차이 10    0.0229    0.0008    0.0002\n",
            "결과 10    0.9091    0.8855    0.8864\n",
            "차이 12    0.0196    0.0005    0.0000\n",
            "결과 12    0.9058    0.8857    0.8863\n",
            "차이 14    0.0171    0.0004    0.0000\n",
            "결과 14    0.9033    0.8859    0.8862\n",
            "차이 16    0.0152    0.0003    0.0000\n",
            "결과 16    0.9014    0.8860    0.8862\n",
            "차이 18    0.0136    0.0002    0.0000\n",
            "결과 18    0.8998    0.8860    0.8862\n",
            "차이 20    0.0124    0.0002    0.0000\n",
            "결과 20    0.8986    0.8861    0.8862\n"
          ]
        },
        {
          "output_type": "stream",
          "name": "stderr",
          "text": [
            "<ipython-input-72-d9f4679fdd73>:6: RuntimeWarning: divide by zero encountered in divide\n",
            "  return np.exp(-x**2) + np.exp(-1/x**2)/x**2\n",
            "<ipython-input-72-d9f4679fdd73>:6: RuntimeWarning: invalid value encountered in divide\n",
            "  return np.exp(-x**2) + np.exp(-1/x**2)/x**2\n"
          ]
        }
      ]
    },
    {
      "cell_type": "code",
      "source": [],
      "metadata": {
        "id": "oF36cfWpT6mU"
      },
      "execution_count": null,
      "outputs": []
    }
  ]
}