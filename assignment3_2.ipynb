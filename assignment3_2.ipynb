{
  "nbformat": 4,
  "nbformat_minor": 0,
  "metadata": {
    "colab": {
      "provenance": [],
      "authorship_tag": "ABX9TyOgpurDTJwwQUvAKC2JNKxv"
    },
    "kernelspec": {
      "name": "python3",
      "display_name": "Python 3"
    },
    "language_info": {
      "name": "python"
    }
  },
  "cells": [
    {
      "cell_type": "code",
      "source": [
        "#3번\n",
        "import numpy as np\n",
        "from scipy import linalg\n",
        "def g(x):\n",
        "  n=len(x)\n",
        "  q2=[]\n",
        "  norm = linalg.norm(x[0])\n",
        "  x[0] = x[0]/norm\n",
        "  q2.append(x[0])\n",
        "  for i in range(1,n):\n",
        "    q2.append(x[i])\n",
        "  for i in range(1,n):\n",
        "    for j in range(0,i):\n",
        "      q2[i] = q2[i] - q2[i].dot(q2[j])*q2[j]\n",
        "    norm = linalg.norm(q2[i])\n",
        "    q2[i] = -q2[i]/norm\n",
        "  q2[0] = -q2[0]\n",
        "  q2=np.array(q2)\n",
        "  q2=q2.transpose()\n",
        "  return q2"
      ],
      "metadata": {
        "id": "u2YtKdr6_yxN"
      },
      "execution_count": null,
      "outputs": []
    },
    {
      "cell_type": "code",
      "source": [
        "a=np.array([[1.0,2.0,3.0],[-1.0,3.0,2.0],[2.0,1.0,-2.0]])\n",
        "b=a.transpose()\n",
        "Q = g(b)"
      ],
      "metadata": {
        "id": "_CkbUdFsAf3Z"
      },
      "execution_count": null,
      "outputs": []
    },
    {
      "cell_type": "code",
      "source": [
        "Q"
      ],
      "metadata": {
        "colab": {
          "base_uri": "https://localhost:8080/"
        },
        "id": "AJGvGn0gM_2l",
        "outputId": "3f2a3448-353d-4437-ce1e-b03356ed8fe7"
      },
      "execution_count": null,
      "outputs": [
        {
          "output_type": "execute_result",
          "data": {
            "text/plain": [
              "array([[-0.40824829, -0.49292179, -0.76834982],\n",
              "       [ 0.40824829, -0.85141036,  0.32929278],\n",
              "       [-0.81649658, -0.17924429,  0.5488213 ]])"
            ]
          },
          "metadata": {},
          "execution_count": 96
        }
      ]
    },
    {
      "cell_type": "code",
      "source": [
        "A=[[1,2,3],[-1,3,2],[2,1,-2]]\n",
        "np.dot(Q.transpose(),A)"
      ],
      "metadata": {
        "colab": {
          "base_uri": "https://localhost:8080/"
        },
        "id": "RuEeCn-mLLM9",
        "outputId": "a2f80b38-8d00-43bd-8ae7-11093e98ba37"
      },
      "execution_count": null,
      "outputs": [
        {
          "output_type": "execute_result",
          "data": {
            "text/plain": [
              "array([[-2.44948974e+00, -4.08248290e-01,  1.22474487e+00],\n",
              "       [ 1.66533454e-16, -3.71931893e+00, -2.82309750e+00],\n",
              "       [-4.44089210e-16,  2.22044605e-16, -2.74410650e+00]])"
            ]
          },
          "metadata": {},
          "execution_count": 97
        }
      ]
    },
    {
      "cell_type": "code",
      "source": [
        "linalg.qr(A)"
      ],
      "metadata": {
        "colab": {
          "base_uri": "https://localhost:8080/"
        },
        "id": "SGdrq9TSAmW9",
        "outputId": "a29ee97f-dd9e-4c5c-b62c-9986dba15088"
      },
      "execution_count": null,
      "outputs": [
        {
          "output_type": "execute_result",
          "data": {
            "text/plain": [
              "(array([[-0.40824829, -0.49292179, -0.76834982],\n",
              "        [ 0.40824829, -0.85141036,  0.32929278],\n",
              "        [-0.81649658, -0.17924429,  0.5488213 ]]),\n",
              " array([[-2.44948974, -0.40824829,  1.22474487],\n",
              "        [ 0.        , -3.71931893, -2.8230975 ],\n",
              "        [ 0.        ,  0.        , -2.7441065 ]]))"
            ]
          },
          "metadata": {},
          "execution_count": 100
        }
      ]
    },
    {
      "cell_type": "code",
      "source": [],
      "metadata": {
        "id": "KzG5tJnONRPH"
      },
      "execution_count": null,
      "outputs": []
    }
  ]
}